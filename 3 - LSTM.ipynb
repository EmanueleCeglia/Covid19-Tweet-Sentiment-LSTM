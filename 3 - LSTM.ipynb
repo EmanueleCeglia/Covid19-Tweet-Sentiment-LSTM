{
 "cells": [
  {
   "cell_type": "code",
   "execution_count": 2,
   "metadata": {},
   "outputs": [],
   "source": [
    "import pandas as pd\n",
    "import numpy as np\n",
    "import matplotlib.pyplot as plt\n",
    "from nltk.tokenize import word_tokenize\n",
    "from sklearn.metrics import confusion_matrix, classification_report\n",
    "from keras.models import Sequential\n",
    "from keras.layers import LSTM, Dense\n",
    "from sklearn.preprocessing import LabelEncoder\n",
    "from sklearn.model_selection import train_test_split"
   ]
  },
  {
   "cell_type": "code",
   "execution_count": 3,
   "metadata": {},
   "outputs": [],
   "source": [
    "df = pd.read_csv('df_for_LSTM.csv')\n",
    "df = df.drop(['Unnamed: 0','index'], axis=1)\n",
    "df.columns = ['tweets','sentiment']"
   ]
  },
  {
   "cell_type": "code",
   "execution_count": 6,
   "metadata": {},
   "outputs": [],
   "source": [
    "X_train, X_test, y_train, y_test = train_test_split(df['tweets'], df['sentiment'], test_size=0.20, random_state=42)"
   ]
  },
  {
   "cell_type": "code",
   "execution_count": 7,
   "metadata": {},
   "outputs": [],
   "source": [
    "#EMBEDDING\n",
    "import gensim.downloader as api"
   ]
  },
  {
   "cell_type": "code",
   "execution_count": 8,
   "metadata": {},
   "outputs": [],
   "source": [
    "word2vec_model = api.load('glove-twitter-200')"
   ]
  },
  {
   "cell_type": "code",
   "execution_count": 9,
   "metadata": {},
   "outputs": [],
   "source": [
    "#NEW X_TRAIN\n",
    "\n",
    "#Creo il corpus\n",
    "vec = []\n",
    "for phrase in X_train:\n",
    "    vec.append(phrase)\n",
    "\n",
    "#Creo lista contente tanti dizionari quanti tweets, ogni dizionario possiede come chiave la parola e come valore associato il vettore\n",
    "word2vec = []\n",
    "for phrase in vec:\n",
    "    temp = {}\n",
    "    for word in phrase.split():\n",
    "        try:\n",
    "            temp[word] = (word2vec_model[word])\n",
    "        except Exception:\n",
    "            pass\n",
    "    word2vec.append(temp)\n",
    "    \n",
    "#Procedimento per fare la media dei vettori di ogni tweet e formare il nuovo X_train\n",
    "i = 0\n",
    "new_X_train = []\n",
    "for phrase in X_train:\n",
    "    tokens = word_tokenize(phrase)\n",
    "    temp = np.array([0.0 for i in range(200)])\n",
    "    for word in tokens:\n",
    "        if word in word2vec[i].keys():\n",
    "            matrix = word2vec[i][word]\n",
    "            temp += matrix\n",
    "    new_X_train.append(temp)\n",
    "    i += 1"
   ]
  },
  {
   "cell_type": "code",
   "execution_count": 10,
   "metadata": {},
   "outputs": [],
   "source": [
    "#NEW X_TEST\n",
    "\n",
    "#Creo il corpus\n",
    "vec = []\n",
    "for phrase in X_test:\n",
    "    vec.append(phrase)\n",
    "\n",
    "#Creo lista contente tanti dizionari quanti tweets, ogni dizionario possiede come chiave la parola e come valore associato il vettore\n",
    "word2vec = []\n",
    "for phrase in vec:\n",
    "    temp = {}\n",
    "    for word in phrase.split():\n",
    "        try:\n",
    "            temp[word] = (word2vec_model[word])\n",
    "        except Exception:\n",
    "            pass\n",
    "    word2vec.append(temp)\n",
    "    \n",
    "#Procedimento per fare la media dei vettori di ogni tweet e formare il nuovo X_train\n",
    "i = 0\n",
    "new_X_test = []\n",
    "for phrase in X_test:\n",
    "    tokens = word_tokenize(phrase)\n",
    "    temp = np.array([0.0 for i in range(200)])\n",
    "    for word in tokens:\n",
    "        if word in word2vec[i].keys():\n",
    "            matrix = word2vec[i][word]\n",
    "            temp += matrix\n",
    "    new_X_test.append(temp)\n",
    "    i += 1"
   ]
  },
  {
   "cell_type": "code",
   "execution_count": 11,
   "metadata": {},
   "outputs": [],
   "source": [
    "X_train = np.array(new_X_train)\n",
    "X_test = np.array(new_X_test)"
   ]
  },
  {
   "cell_type": "code",
   "execution_count": 12,
   "metadata": {},
   "outputs": [],
   "source": [
    "#Increase the dimension of X_train and X_test\n",
    "X_train = np.expand_dims(X_train, 1)\n",
    "X_test = np.expand_dims(X_test, 1)"
   ]
  },
  {
   "cell_type": "code",
   "execution_count": 13,
   "metadata": {},
   "outputs": [],
   "source": [
    "#Encoding y_train and y_test\n",
    "le = LabelEncoder()\n",
    "y_train = le.fit_transform(y_train)\n",
    "y_test = le.transform(y_test)"
   ]
  },
  {
   "cell_type": "code",
   "execution_count": 14,
   "metadata": {},
   "outputs": [],
   "source": [
    "#Reshaping\n",
    "y_test = y_test.reshape(-1,1)\n",
    "y_train = y_train.reshape(-1,1)"
   ]
  },
  {
   "cell_type": "code",
   "execution_count": 15,
   "metadata": {},
   "outputs": [],
   "source": [
    "#Create a new y train with two value for each row (0, 1) for negative sentiment and (1, 0) for positive sentiment\n",
    "new_y_train = np.array([])\n",
    "for i in range(len(y_train)):\n",
    "    if y_train[i] == 0:\n",
    "        new_y_train = np.append(new_y_train, np.array([0,1]))\n",
    "    else:\n",
    "        new_y_train = np.append(new_y_train, np.array([1,0]))"
   ]
  },
  {
   "cell_type": "code",
   "execution_count": 16,
   "metadata": {},
   "outputs": [],
   "source": [
    "#Create a new y test with two value for each row (0, 1) for negative sentiment and (1, 0) for positive sentiment\n",
    "new_y_test = np.array([])\n",
    "for i in range(len(y_test)):\n",
    "    if y_test[i] == 0:\n",
    "        new_y_test = np.append(new_y_test, np.array([0,1]))\n",
    "    else:\n",
    "        new_y_test = np.append(new_y_test, np.array([1,0]))"
   ]
  },
  {
   "cell_type": "code",
   "execution_count": 17,
   "metadata": {},
   "outputs": [],
   "source": [
    "#Reshaping\n",
    "y_test = new_y_test.reshape(-1,2)\n",
    "y_train = new_y_train.reshape(-1,2)"
   ]
  },
  {
   "cell_type": "code",
   "execution_count": 18,
   "metadata": {},
   "outputs": [
    {
     "name": "stdout",
     "output_type": "stream",
     "text": [
      "(168573, 1, 200) (168573, 2)\n",
      "(42144, 1, 200) (42144, 2)\n"
     ]
    }
   ],
   "source": [
    "print(X_train.shape, y_train.shape)\n",
    "print(X_test.shape, y_test.shape)"
   ]
  },
  {
   "cell_type": "code",
   "execution_count": 19,
   "metadata": {},
   "outputs": [],
   "source": [
    "model = Sequential()\n",
    "model.add(LSTM(200, dropout=0.2, return_sequences=False, input_shape=(X_train.shape[1:])))\n",
    "model.add(Dense(128, activation='relu'))\n",
    "model.add(Dense(64, activation='relu'))\n",
    "model.add(Dense(32, activation='relu'))\n",
    "model.add(Dense(2, activation='sigmoid'))\n",
    "model.compile(loss='binary_crossentropy', optimizer='adam', metrics=['accuracy'])"
   ]
  },
  {
   "cell_type": "code",
   "execution_count": 20,
   "metadata": {
    "scrolled": true
   },
   "outputs": [
    {
     "name": "stdout",
     "output_type": "stream",
     "text": [
      "Model: \"sequential\"\n",
      "_________________________________________________________________\n",
      "Layer (type)                 Output Shape              Param #   \n",
      "=================================================================\n",
      "lstm (LSTM)                  (None, 200)               320800    \n",
      "_________________________________________________________________\n",
      "dense (Dense)                (None, 128)               25728     \n",
      "_________________________________________________________________\n",
      "dense_1 (Dense)              (None, 64)                8256      \n",
      "_________________________________________________________________\n",
      "dense_2 (Dense)              (None, 32)                2080      \n",
      "_________________________________________________________________\n",
      "dense_3 (Dense)              (None, 2)                 66        \n",
      "=================================================================\n",
      "Total params: 356,930\n",
      "Trainable params: 356,930\n",
      "Non-trainable params: 0\n",
      "_________________________________________________________________\n"
     ]
    }
   ],
   "source": [
    "model.summary()"
   ]
  },
  {
   "cell_type": "code",
   "execution_count": 21,
   "metadata": {
    "scrolled": true
   },
   "outputs": [
    {
     "name": "stdout",
     "output_type": "stream",
     "text": [
      "Epoch 1/30\n",
      "5268/5268 [==============================] - 23s 4ms/step - loss: 0.4256 - accuracy: 0.7968 - val_loss: 0.3760 - val_accuracy: 0.8285\n",
      "Epoch 2/30\n",
      "5268/5268 [==============================] - 24s 4ms/step - loss: 0.3935 - accuracy: 0.8152 - val_loss: 0.3585 - val_accuracy: 0.8392\n",
      "Epoch 3/30\n",
      "5268/5268 [==============================] - 23s 4ms/step - loss: 0.3809 - accuracy: 0.8225 - val_loss: 0.3526 - val_accuracy: 0.8385\n",
      "Epoch 4/30\n",
      "5268/5268 [==============================] - 23s 4ms/step - loss: 0.3726 - accuracy: 0.8256 - val_loss: 0.3445 - val_accuracy: 0.8445\n",
      "Epoch 5/30\n",
      "5268/5268 [==============================] - 23s 4ms/step - loss: 0.3662 - accuracy: 0.8300 - val_loss: 0.3416 - val_accuracy: 0.8433\n",
      "Epoch 6/30\n",
      "5268/5268 [==============================] - 23s 4ms/step - loss: 0.3611 - accuracy: 0.8323 - val_loss: 0.3429 - val_accuracy: 0.8436\n",
      "Epoch 7/30\n",
      "5268/5268 [==============================] - 24s 4ms/step - loss: 0.3582 - accuracy: 0.8352 - val_loss: 0.3416 - val_accuracy: 0.8457\n",
      "Epoch 8/30\n",
      "5268/5268 [==============================] - 22s 4ms/step - loss: 0.3530 - accuracy: 0.8382 - val_loss: 0.3397 - val_accuracy: 0.8448\n",
      "Epoch 9/30\n",
      "5268/5268 [==============================] - 23s 4ms/step - loss: 0.3500 - accuracy: 0.8382 - val_loss: 0.3372 - val_accuracy: 0.8481\n",
      "Epoch 10/30\n",
      "5268/5268 [==============================] - 23s 4ms/step - loss: 0.3482 - accuracy: 0.8399 - val_loss: 0.3367 - val_accuracy: 0.8474\n",
      "Epoch 11/30\n",
      "5268/5268 [==============================] - 23s 4ms/step - loss: 0.3440 - accuracy: 0.8427 - val_loss: 0.3356 - val_accuracy: 0.8474\n",
      "Epoch 12/30\n",
      "5268/5268 [==============================] - 23s 4ms/step - loss: 0.3418 - accuracy: 0.8427 - val_loss: 0.3330 - val_accuracy: 0.8488\n",
      "Epoch 13/30\n",
      "5268/5268 [==============================] - 23s 4ms/step - loss: 0.3395 - accuracy: 0.8436 - val_loss: 0.3340 - val_accuracy: 0.8489\n",
      "Epoch 14/30\n",
      "5268/5268 [==============================] - 23s 4ms/step - loss: 0.3378 - accuracy: 0.8453 - val_loss: 0.3344 - val_accuracy: 0.8475\n",
      "Epoch 15/30\n",
      "5268/5268 [==============================] - 23s 4ms/step - loss: 0.3368 - accuracy: 0.8464 - val_loss: 0.3328 - val_accuracy: 0.8473\n",
      "Epoch 16/30\n",
      "5268/5268 [==============================] - 23s 4ms/step - loss: 0.3329 - accuracy: 0.8482 - val_loss: 0.3340 - val_accuracy: 0.8489\n",
      "Epoch 17/30\n",
      "5268/5268 [==============================] - 22s 4ms/step - loss: 0.3333 - accuracy: 0.8478 - val_loss: 0.3334 - val_accuracy: 0.8478\n",
      "Epoch 18/30\n",
      "5268/5268 [==============================] - 22s 4ms/step - loss: 0.3296 - accuracy: 0.8493 - val_loss: 0.3333 - val_accuracy: 0.8490\n",
      "Epoch 19/30\n",
      "5268/5268 [==============================] - 23s 4ms/step - loss: 0.3292 - accuracy: 0.8494 - val_loss: 0.3312 - val_accuracy: 0.8487\n",
      "Epoch 20/30\n",
      "5268/5268 [==============================] - 23s 4ms/step - loss: 0.3280 - accuracy: 0.8514 - val_loss: 0.3316 - val_accuracy: 0.8493\n",
      "Epoch 21/30\n",
      "5268/5268 [==============================] - 23s 4ms/step - loss: 0.3273 - accuracy: 0.8512 - val_loss: 0.3370 - val_accuracy: 0.8503\n",
      "Epoch 22/30\n",
      "5268/5268 [==============================] - 23s 4ms/step - loss: 0.3257 - accuracy: 0.8517 - val_loss: 0.3335 - val_accuracy: 0.8504\n",
      "Epoch 23/30\n",
      "5268/5268 [==============================] - 23s 4ms/step - loss: 0.3250 - accuracy: 0.8521 - val_loss: 0.3322 - val_accuracy: 0.8505\n",
      "Epoch 24/30\n",
      "5268/5268 [==============================] - 23s 4ms/step - loss: 0.3240 - accuracy: 0.8531 - val_loss: 0.3333 - val_accuracy: 0.8488\n",
      "Epoch 25/30\n",
      "5268/5268 [==============================] - 23s 4ms/step - loss: 0.3232 - accuracy: 0.8526 - val_loss: 0.3350 - val_accuracy: 0.8473\n",
      "Epoch 26/30\n",
      "5268/5268 [==============================] - 23s 4ms/step - loss: 0.3223 - accuracy: 0.8545 - val_loss: 0.3325 - val_accuracy: 0.8507\n",
      "Epoch 27/30\n",
      "5268/5268 [==============================] - 23s 4ms/step - loss: 0.3205 - accuracy: 0.8543 - val_loss: 0.3308 - val_accuracy: 0.8511\n",
      "Epoch 28/30\n",
      "5268/5268 [==============================] - 24s 5ms/step - loss: 0.3194 - accuracy: 0.8550 - val_loss: 0.3338 - val_accuracy: 0.8495\n",
      "Epoch 29/30\n",
      "5268/5268 [==============================] - 24s 5ms/step - loss: 0.3189 - accuracy: 0.8555 - val_loss: 0.3316 - val_accuracy: 0.8498\n",
      "Epoch 30/30\n",
      "5268/5268 [==============================] - 24s 5ms/step - loss: 0.3189 - accuracy: 0.8549 - val_loss: 0.3318 - val_accuracy: 0.8477\n"
     ]
    }
   ],
   "source": [
    "history = model.fit(X_train, y_train, epochs=30, batch_size=32 , validation_data=(X_test, y_test))"
   ]
  },
  {
   "cell_type": "code",
   "execution_count": 22,
   "metadata": {},
   "outputs": [],
   "source": [
    "#Compute the prediction in order to calculate the confusion matrix and the classification report\n",
    "prediction = model.predict(X_test)"
   ]
  },
  {
   "cell_type": "code",
   "execution_count": 23,
   "metadata": {},
   "outputs": [],
   "source": [
    "#Fix the prediction\n",
    "correct_pred = []\n",
    "for pred in prediction:\n",
    "    if pred[0] < 0.5:\n",
    "        correct_pred.append(0.0)\n",
    "    else:\n",
    "        correct_pred.append(1.0)\n",
    "\n",
    "correct_pred = np.array(correct_pred)\n",
    "correct_pred = correct_pred.reshape(-1,1)"
   ]
  },
  {
   "cell_type": "code",
   "execution_count": 24,
   "metadata": {},
   "outputs": [],
   "source": [
    "cm = confusion_matrix(y_test[:,0], correct_pred)\n",
    "cr = classification_report(y_test[:,0], correct_pred)"
   ]
  },
  {
   "cell_type": "code",
   "execution_count": 25,
   "metadata": {},
   "outputs": [
    {
     "name": "stdout",
     "output_type": "stream",
     "text": [
      "CONFUSION MATRIX: \n",
      "\n",
      "True Positive: 13950 False Positive: 3088 \n",
      "False Negative: 3327 True Negative: 21779\n"
     ]
    }
   ],
   "source": [
    "print('CONFUSION MATRIX: \\n')\n",
    "print('True Positive:', cm[0][0], 'False Positive:', cm[0][1], '\\n'\n",
    "      'False Negative:', cm[1][0], 'True Negative:', cm[1][1])"
   ]
  },
  {
   "cell_type": "code",
   "execution_count": 26,
   "metadata": {},
   "outputs": [
    {
     "name": "stdout",
     "output_type": "stream",
     "text": [
      "CLASSIFICATION REPORT: \n",
      "\n",
      "              precision    recall  f1-score   support\n",
      "\n",
      "         0.0       0.81      0.82      0.81     17038\n",
      "         1.0       0.88      0.87      0.87     25106\n",
      "\n",
      "    accuracy                           0.85     42144\n",
      "   macro avg       0.84      0.84      0.84     42144\n",
      "weighted avg       0.85      0.85      0.85     42144\n",
      "\n"
     ]
    }
   ],
   "source": [
    "print('CLASSIFICATION REPORT: \\n')\n",
    "print(cr)"
   ]
  },
  {
   "cell_type": "code",
   "execution_count": 27,
   "metadata": {},
   "outputs": [
    {
     "name": "stdout",
     "output_type": "stream",
     "text": [
      "dict_keys(['loss', 'accuracy', 'val_loss', 'val_accuracy'])\n"
     ]
    }
   ],
   "source": [
    "print(history.history.keys())"
   ]
  },
  {
   "cell_type": "code",
   "execution_count": 28,
   "metadata": {},
   "outputs": [
    {
     "data": {
      "text/plain": [
       "<matplotlib.legend.Legend at 0x2c5c3fd50a0>"
      ]
     },
     "execution_count": 28,
     "metadata": {},
     "output_type": "execute_result"
    },
    {
     "data": {
      "image/png": "[encoded data removed]",
      "text/plain": [
       "<Figure size 720x432 with 1 Axes>"
      ]
     },
     "metadata": {
      "needs_background": "light"
     },
     "output_type": "display_data"
    }
   ],
   "source": [
    "plt.figure(figsize=(10,6))\n",
    "plt.title('Train Accuracy vs Loss')\n",
    "plt.plot(history.history['accuracy'])\n",
    "plt.plot(history.history['loss'])\n",
    "plt.ylabel('Train Accuracy & Loss')\n",
    "plt.xlabel('Epochs')\n",
    "plt.grid()\n",
    "plt.legend(['Train Accuracy', 'Train Loss'], loc='center right')"
   ]
  },
  {
   "cell_type": "code",
   "execution_count": 29,
   "metadata": {},
   "outputs": [
    {
     "data": {
      "text/plain": [
       "<matplotlib.legend.Legend at 0x2c5c409b5e0>"
      ]
     },
     "execution_count": 29,
     "metadata": {},
     "output_type": "execute_result"
    },
    {
     "data": {
      "image/png": "[encoded data removed]",
      "text/plain": [
       "<Figure size 720x432 with 1 Axes>"
      ]
     },
     "metadata": {
      "needs_background": "light"
     },
     "output_type": "display_data"
    }
   ],
   "source": [
    "plt.figure(figsize=(10,6))\n",
    "plt.title('Validation Accuracy vs Loss')\n",
    "plt.plot(history.history['val_accuracy'])\n",
    "plt.plot(history.history['val_loss'])\n",
    "plt.ylabel('Validation Accuracy & Loss')\n",
    "plt.xlabel('Epochs')\n",
    "plt.grid()\n",
    "plt.legend(['Validation Accuracy', 'Validation Loss'], loc='center right')"
   ]
  }
 ],
 "metadata": {
  "kernelspec": {
   "display_name": "Python 3",
   "language": "python",
   "name": "python3"
  },
  "language_info": {
   "codemirror_mode": {
    "name": "ipython",
    "version": 3
   },
   "file_extension": ".py",
   "mimetype": "text/x-python",
   "name": "python",
   "nbconvert_exporter": "python",
   "pygments_lexer": "ipython3",
   "version": "3.8.5"
  }
 },
 "nbformat": 4,
 "nbformat_minor": 4
}
